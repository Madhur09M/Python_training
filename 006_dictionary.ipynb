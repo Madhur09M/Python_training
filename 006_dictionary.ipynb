{
 "cells": [
  {
   "cell_type": "markdown",
   "id": "726218e1",
   "metadata": {},
   "source": [
    "# Dictionary #"
   ]
  },
  {
   "cell_type": "code",
   "execution_count": 1,
   "id": "2ac25e8b",
   "metadata": {},
   "outputs": [
    {
     "name": "stdout",
     "output_type": "stream",
     "text": [
      "madhur\n"
     ]
    }
   ],
   "source": [
    "print(\"madhur\")"
   ]
  },
  {
   "cell_type": "code",
   "execution_count": 2,
   "id": "3d8f128e",
   "metadata": {},
   "outputs": [
    {
     "name": "stdout",
     "output_type": "stream",
     "text": [
      "{'name': 'madhur', 'age': 21, 'year': '3rd'}\n",
      "<class 'dict'>\n"
     ]
    }
   ],
   "source": [
    "dict1 = {\n",
    "    \"name\" : \"madhur\",\n",
    "    \"age\" : 21,\n",
    "    \"year\" : \"3rd\"\n",
    "}\n",
    "\n",
    "print(dict1)\n",
    "print(type(dict1))"
   ]
  },
  {
   "cell_type": "code",
   "execution_count": null,
   "id": "fb1e57fe",
   "metadata": {},
   "outputs": [
    {
     "name": "stdout",
     "output_type": "stream",
     "text": [
      "dict_items([('product', 'sandstone'), ('quantity', 100), ('mfg', 15), ('expiry', 20)])\n",
      "{'product': 'marble', 'quantity': 100, 'mfg': 15, 'expiry': 20, 'expir': 25}\n"
     ]
    }
   ],
   "source": [
    "dict2 = {\n",
    "    \"product\" : \"sandstone\",\n",
    "    \"quantity\" : 100,\n",
    "    \"mfg\" : 15,\n",
    "    \"expiry\" : 20\n",
    "}\n",
    "\n",
    "# print(dict2[\"product\"])          #indexing\n",
    "# print(dict2.get(\"name\"))         #does not provide error if the key is not present, unlike indexing\n",
    "# print(dict2.items())             \n",
    "# print(dict2.keys())\n",
    "# print(dict2.values())\n",
    "# print(dict2.pop(\"expiry\"))\n",
    "# print(dict2.popitem())\n",
    "dict2.update({\"product\" : \"marble\", \"expir\" : 25})\n",
    "print(dict2)\n"
   ]
  },
  {
   "cell_type": "code",
   "execution_count": 27,
   "id": "afb0879d",
   "metadata": {},
   "outputs": [
    {
     "name": "stdout",
     "output_type": "stream",
     "text": [
      "{'a': 4, 'b': 6, 'c': 2}\n"
     ]
    }
   ],
   "source": [
    "dict3 = {\n",
    "    \"a\" : 4,\n",
    "    \"b\" : 6,\n",
    "    \"c\" : 8\n",
    "}\n",
    "dict3.setdefault(\"c\",2)\n",
    "print(dict3)"
   ]
  },
  {
   "cell_type": "code",
   "execution_count": 29,
   "id": "c706fa7d",
   "metadata": {},
   "outputs": [
    {
     "name": "stdout",
     "output_type": "stream",
     "text": [
      "{'h': 12, 'e': 12, 'l': 12, 'o': 12}\n"
     ]
    }
   ],
   "source": [
    "dict4 = {}.fromkeys(\"hello\",12)\n",
    "\n",
    "print(dict4)"
   ]
  }
 ],
 "metadata": {
  "kernelspec": {
   "display_name": "base",
   "language": "python",
   "name": "python3"
  },
  "language_info": {
   "codemirror_mode": {
    "name": "ipython",
    "version": 3
   },
   "file_extension": ".py",
   "mimetype": "text/x-python",
   "name": "python",
   "nbconvert_exporter": "python",
   "pygments_lexer": "ipython3",
   "version": "3.12.7"
  }
 },
 "nbformat": 4,
 "nbformat_minor": 5
}
