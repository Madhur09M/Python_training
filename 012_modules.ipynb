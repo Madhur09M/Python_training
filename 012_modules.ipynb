{
 "cells": [
  {
   "cell_type": "markdown",
   "id": "1e01ef96",
   "metadata": {},
   "source": [
    "# Modules #"
   ]
  },
  {
   "cell_type": "code",
   "execution_count": null,
   "id": "f39e17ed",
   "metadata": {},
   "outputs": [],
   "source": [
    "#modules --> importing other python files into current file\n",
    "#module is a single python file(.py)\n",
    "\n",
    "#there are three types of modules\n",
    "\n",
    "#1. built-in modules : os, datetime, re, math\n",
    "#2. third-party modules : pandas, numpy\n",
    "#3. user defined modules"
   ]
  },
  {
   "cell_type": "code",
   "execution_count": 4,
   "id": "cfa7a9a9",
   "metadata": {},
   "outputs": [
    {
     "name": "stdout",
     "output_type": "stream",
     "text": [
      "10\n"
     ]
    }
   ],
   "source": [
    "from mad import sum\n",
    "\n",
    "print(sum(4,6))"
   ]
  }
 ],
 "metadata": {
  "kernelspec": {
   "display_name": "base",
   "language": "python",
   "name": "python3"
  },
  "language_info": {
   "codemirror_mode": {
    "name": "ipython",
    "version": 3
   },
   "file_extension": ".py",
   "mimetype": "text/x-python",
   "name": "python",
   "nbconvert_exporter": "python",
   "pygments_lexer": "ipython3",
   "version": "3.12.7"
  }
 },
 "nbformat": 4,
 "nbformat_minor": 5
}
