{
 "cells": [
  {
   "cell_type": "markdown",
   "id": "986c900d",
   "metadata": {},
   "source": [
    "# Sets #"
   ]
  },
  {
   "cell_type": "code",
   "execution_count": 3,
   "id": "4e9b7e97",
   "metadata": {},
   "outputs": [
    {
     "name": "stdout",
     "output_type": "stream",
     "text": [
      "{1, 2, 'hello'}\n",
      "<class 'set'>\n"
     ]
    }
   ],
   "source": [
    "set1 = {1, 2, \"hello\", True, \"hello\"}             #in mathematics, True = 1, False = 0\n",
    "print(set1)\n",
    "print(type(set1))"
   ]
  },
  {
   "cell_type": "markdown",
   "id": "aa7b83b7",
   "metadata": {},
   "source": [
    "## Methods ##"
   ]
  },
  {
   "cell_type": "code",
   "execution_count": null,
   "id": "b9e4745e",
   "metadata": {},
   "outputs": [
    {
     "name": "stdout",
     "output_type": "stream",
     "text": [
      "{'apple', 'kivi', 'strawberry', 'banana'}\n",
      "{'apple', 'kivi', 'strawberry'}\n"
     ]
    }
   ],
   "source": [
    "set2 = {\"apple\", \"banana\", \"kivi\", \"strawberry\"}\n",
    "print(set2)\n",
    "\n",
    "# set2.add(\"mango\")\n",
    "# print(set2)\n",
    "\n",
    "# set2.update([1, 2, ,3, 4])\n",
    "# print(set2)\n",
    "\n",
    "# set2.remove(\"hello\")\n",
    "# print(set2)\n",
    "\n",
    "# set2.pop()\n",
    "# print(set2)\n",
    "\n",
    "# set2.discard(\"banana\")\n",
    "# print(set2)"
   ]
  },
  {
   "cell_type": "markdown",
   "id": "7879b4fc",
   "metadata": {},
   "source": [
    "## Set Operations ##"
   ]
  },
  {
   "cell_type": "code",
   "execution_count": null,
   "id": "8e0d2abd",
   "metadata": {},
   "outputs": [
    {
     "name": "stdout",
     "output_type": "stream",
     "text": [
      "{1, 4}\n"
     ]
    }
   ],
   "source": [
    "a = {1, 2, 3}\n",
    "b = {2, 3, 4}\n",
    "\n",
    "# print(a.union(b))\n",
    "# print(a.intersection(b))\n",
    "# print(a.difference(b))\n",
    "# print(b.difference(a))\n",
    "# print(a.symmetric_difference(b))      #returns the elements in either set but not both\n",
    "# print(a.issubset(b))\n",
    "# print(b.issubset(a))\n",
    "# print(a.issuperset(b))\n",
    "# print(b.issuperset(a))\n",
    "# print(a.isdisjoint(b))\n",
    "# print(b.isdisjoint(a))\n",
    "\n",
    "# a.intersection_update(b)               #update the first set with the intersection values\n",
    "# print(a)\n",
    "\n",
    "# a.difference_update(b)                 #update the first set with the difference values\n",
    "# print(a)\n",
    "\n",
    "a.symmetric_difference_update(b)         #update the first set with the symmetric_difference values\n",
    "print(a)"
   ]
  },
  {
   "cell_type": "code",
   "execution_count": null,
   "id": "79c64495",
   "metadata": {},
   "outputs": [],
   "source": []
  }
 ],
 "metadata": {
  "kernelspec": {
   "display_name": "base",
   "language": "python",
   "name": "python3"
  },
  "language_info": {
   "codemirror_mode": {
    "name": "ipython",
    "version": 3
   },
   "file_extension": ".py",
   "mimetype": "text/x-python",
   "name": "python",
   "nbconvert_exporter": "python",
   "pygments_lexer": "ipython3",
   "version": "3.12.7"
  }
 },
 "nbformat": 4,
 "nbformat_minor": 5
}
