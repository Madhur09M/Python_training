{
 "cells": [
  {
   "cell_type": "code",
   "execution_count": 60,
   "id": "df5b09d9",
   "metadata": {},
   "outputs": [
    {
     "name": "stdout",
     "output_type": "stream",
     "text": [
      "hello\n"
     ]
    }
   ],
   "source": [
    "print(\"hello\")"
   ]
  },
  {
   "cell_type": "code",
   "execution_count": 61,
   "id": "533c0a88",
   "metadata": {},
   "outputs": [
    {
     "data": {
      "text/plain": [
       "'1.26.4'"
      ]
     },
     "execution_count": 61,
     "metadata": {},
     "output_type": "execute_result"
    }
   ],
   "source": [
    "# check numpy version\n",
    "\n",
    "import numpy as np \n",
    "np.__version__"
   ]
  },
  {
   "cell_type": "code",
   "execution_count": 62,
   "id": "55fc0459",
   "metadata": {},
   "outputs": [
    {
     "name": "stdout",
     "output_type": "stream",
     "text": [
      "[1 2 3 4 5] <class 'numpy.ndarray'>\n"
     ]
    }
   ],
   "source": [
    "list1 = [1, 2, 3, 4, 5]\n",
    "# list1 = [1, 2, \"3\", 4, 5]       #output --> ['1' '2' '3' '4' '5']  \n",
    "\n",
    "arr1 = np.array(list1)\n",
    "print(arr1,type(arr1))"
   ]
  },
  {
   "cell_type": "code",
   "execution_count": 63,
   "id": "01ea047f",
   "metadata": {},
   "outputs": [
    {
     "data": {
      "text/plain": [
       "array([1, 2, 3, 4, 5, 6, 7, 8, 9])"
      ]
     },
     "execution_count": 63,
     "metadata": {},
     "output_type": "execute_result"
    }
   ],
   "source": [
    "arr2 = np.arange(1,10)          #arange fun is similar to the in range fun\n",
    "arr2"
   ]
  },
  {
   "cell_type": "code",
   "execution_count": 64,
   "id": "80ae8b81",
   "metadata": {},
   "outputs": [
    {
     "data": {
      "text/plain": [
       "array([1., 1., 1., 1., 1.])"
      ]
     },
     "execution_count": 64,
     "metadata": {},
     "output_type": "execute_result"
    }
   ],
   "source": [
    "arr3 = np.ones(5)          #provides output in float datatype\n",
    "arr3"
   ]
  },
  {
   "cell_type": "code",
   "execution_count": 65,
   "id": "8afaed4b",
   "metadata": {},
   "outputs": [
    {
     "data": {
      "text/plain": [
       "array([[0., 0., 0., 0., 0.],\n",
       "       [0., 0., 0., 0., 0.],\n",
       "       [0., 0., 0., 0., 0.],\n",
       "       [0., 0., 0., 0., 0.]])"
      ]
     },
     "execution_count": 65,
     "metadata": {},
     "output_type": "execute_result"
    }
   ],
   "source": [
    "arr4 = np.zeros((4, 5))        #2D array ---> (rows, columns)\n",
    "arr4"
   ]
  },
  {
   "cell_type": "code",
   "execution_count": 66,
   "id": "3c721198",
   "metadata": {},
   "outputs": [
    {
     "data": {
      "text/plain": [
       "array([ 1.  ,  3.25,  5.5 ,  7.75, 10.  ])"
      ]
     },
     "execution_count": 66,
     "metadata": {},
     "output_type": "execute_result"
    }
   ],
   "source": [
    "arr5 = np.linspace(1, 10, 5)     #(start, stop, no of partions)\n",
    "arr5"
   ]
  },
  {
   "cell_type": "code",
   "execution_count": 67,
   "id": "c999c96a",
   "metadata": {},
   "outputs": [
    {
     "data": {
      "text/plain": [
       "array([[ 1,  2,  3,  4,  5,  6],\n",
       "       [ 7,  8,  9, 10, 11, 12],\n",
       "       [13, 14, 15, 16, 17, 18],\n",
       "       [19, 20, 21, 22, 23, 24],\n",
       "       [25, 26, 27, 28, 29, 30]])"
      ]
     },
     "execution_count": 67,
     "metadata": {},
     "output_type": "execute_result"
    }
   ],
   "source": [
    "arr6 = np.arange(1, 31).reshape(5, 6)      #changes the 1D array into nD array, \n",
    "arr6                                        "
   ]
  },
  {
   "cell_type": "code",
   "execution_count": 68,
   "id": "9d68da2b",
   "metadata": {},
   "outputs": [
    {
     "data": {
      "text/plain": [
       "array([80, 87, 98, 25, 43,  2, 10, 31, 94, 25])"
      ]
     },
     "execution_count": 68,
     "metadata": {},
     "output_type": "execute_result"
    }
   ],
   "source": [
    "arr7 = np.random.randint(1, 100, 10)          #(start, stop, no of partions)\n",
    "arr7"
   ]
  },
  {
   "cell_type": "code",
   "execution_count": 69,
   "id": "8a602bb0",
   "metadata": {},
   "outputs": [
    {
     "name": "stdout",
     "output_type": "stream",
     "text": [
      "(6, 10)\n",
      "(10, 6)\n"
     ]
    }
   ],
   "source": [
    "arr8 = np.random.randint(1, 1000, 60).reshape(6, 10)\n",
    "print(arr8.shape)                  #provides (rows, columns)\n",
    "arr8.dtype                  #type of ele in an array\n",
    "arr8.size                   #no of ele in an array\n",
    "arr8.ndim                   #dimention of an array eg. 2d, 3d\n",
    "\n",
    "arr9 = arr8.T               #transpose the matrix\n",
    "print(arr9.shape)"
   ]
  },
  {
   "cell_type": "code",
   "execution_count": 70,
   "id": "8e643b9c",
   "metadata": {},
   "outputs": [
    {
     "data": {
      "text/plain": [
       "array([689, 151, 428, 551,  92, 244, 420, 626, 462, 878, 882, 134, 514,\n",
       "       585, 709, 526, 249, 407, 538, 655, 649, 826, 717, 447, 187, 272,\n",
       "       296,  17,  91, 857, 400, 437, 751, 868, 799, 691, 542, 446, 889,\n",
       "       739, 444, 528, 378, 178, 217, 688, 909, 693,  81, 864, 469,  81,\n",
       "       469, 132, 174, 246, 123, 227, 143, 595])"
      ]
     },
     "execution_count": 70,
     "metadata": {},
     "output_type": "execute_result"
    }
   ],
   "source": [
    "#convert the multi dimentional array into 1d array\n",
    " \n",
    "arr8.ravel()\n",
    "arr8.flatten()"
   ]
  },
  {
   "cell_type": "markdown",
   "id": "778fd40e",
   "metadata": {},
   "source": [
    "## Indexing and Slicing ##"
   ]
  },
  {
   "cell_type": "code",
   "execution_count": 86,
   "id": "e8702437",
   "metadata": {},
   "outputs": [
    {
     "name": "stdout",
     "output_type": "stream",
     "text": [
      "6\n",
      "[2 4 6 8]\n"
     ]
    },
    {
     "data": {
      "text/plain": [
       "array([1, 2, 3, 4, 5, 6, 7, 8, 9])"
      ]
     },
     "execution_count": 86,
     "metadata": {},
     "output_type": "execute_result"
    }
   ],
   "source": [
    "arr2 = np.arange(1,10)\n",
    "\n",
    "print(arr2[5])          #indexing\n",
    "print(arr2[1::2])       #slicing\n",
    "arr2"
   ]
  },
  {
   "cell_type": "code",
   "execution_count": null,
   "id": "f47fa98e",
   "metadata": {},
   "outputs": [
    {
     "name": "stdout",
     "output_type": "stream",
     "text": [
      "34\n",
      "[[59 58 57 56 55 54 53 52 51 50]\n",
      " [49 48 47 46 45 44 43 42 41 40]\n",
      " [39 38 37 36 35 34 33 32 31 30]\n",
      " [29 28 27 26 25 24 23 22 21 20]\n",
      " [19 18 17 16 15 14 13 12 11 10]\n",
      " [ 9  8  7  6  5  4  3  2  1  0]]\n"
     ]
    },
    {
     "data": {
      "text/plain": [
       "array([[ 0,  1,  2,  3,  4,  5,  6,  7,  8,  9],\n",
       "       [10, 11, 12, 13, 14, 15, 16, 17, 18, 19],\n",
       "       [20, 21, 22, 23, 24, 25, 26, 27, 28, 29],\n",
       "       [30, 31, 32, 33, 34, 35, 36, 37, 38, 39],\n",
       "       [40, 41, 42, 43, 44, 45, 46, 47, 48, 49],\n",
       "       [50, 51, 52, 53, 54, 55, 56, 57, 58, 59]])"
      ]
     },
     "execution_count": 96,
     "metadata": {},
     "output_type": "execute_result"
    }
   ],
   "source": [
    "#slicing in 2D array\n",
    " \n",
    "arr9 = np.arange(0, 60).reshape(6, 10)\n",
    "\n",
    "print(arr9[3:5,4:6][0][0])\n",
    "print(arr9[::-1, ::-1])\n",
    "arr9"
   ]
  },
  {
   "cell_type": "code",
   "execution_count": null,
   "id": "8ee18489",
   "metadata": {},
   "outputs": [
    {
     "data": {
      "text/plain": [
       "array([[[  0,   1,   2,   3,   4,   5,   6,   7,   8],\n",
       "        [  9,  10,  11,  12,  13,  14,  15,  16,  17],\n",
       "        [ 18,  19,  20,  21,  22,  23,  24,  25,  26],\n",
       "        [ 27,  28,  29,  30,  31,  32,  33,  34,  35],\n",
       "        [ 36,  37,  38,  39,  40,  41,  42,  43,  44]],\n",
       "\n",
       "       [[ 45,  46,  47,  48,  49,  50,  51,  52,  53],\n",
       "        [ 54,  55,  56,  57,  58,  59,  60,  61,  62],\n",
       "        [ 63,  64,  65,  66,  67,  68,  69,  70,  71],\n",
       "        [ 72,  73,  74,  75,  76,  77,  78,  79,  80],\n",
       "        [ 81,  82,  83,  84,  85,  86,  87,  88,  89]],\n",
       "\n",
       "       [[ 90,  91,  92,  93,  94,  95,  96,  97,  98],\n",
       "        [ 99, 100, 101, 102, 103, 104, 105, 106, 107],\n",
       "        [108, 109, 110, 111, 112, 113, 114, 115, 116],\n",
       "        [117, 118, 119, 120, 121, 122, 123, 124, 125],\n",
       "        [126, 127, 128, 129, 130, 131, 132, 133, 134]],\n",
       "\n",
       "       [[135, 136, 137, 138, 139, 140, 141, 142, 143],\n",
       "        [144, 145, 146, 147, 148, 149, 150, 151, 152],\n",
       "        [153, 154, 155, 156, 157, 158, 159, 160, 161],\n",
       "        [162, 163, 164, 165, 166, 167, 168, 169, 170],\n",
       "        [171, 172, 173, 174, 175, 176, 177, 178, 179]],\n",
       "\n",
       "       [[180, 181, 182, 183, 184, 185, 186, 187, 188],\n",
       "        [189, 190, 191, 192, 193, 194, 195, 196, 197],\n",
       "        [198, 199, 200, 201, 202, 203, 204, 205, 206],\n",
       "        [207, 208, 209, 210, 211, 212, 213, 214, 215],\n",
       "        [216, 217, 218, 219, 220, 221, 222, 223, 224]]])"
      ]
     },
     "execution_count": 97,
     "metadata": {},
     "output_type": "execute_result"
    }
   ],
   "source": [
    "arr10 = np.arange(225).reshape(5, 5, 9)           #(no of 2d matrix, rows, column)\n",
    "arr10"
   ]
  },
  {
   "cell_type": "code",
   "execution_count": null,
   "id": "a75de918",
   "metadata": {},
   "outputs": [
    {
     "name": "stdout",
     "output_type": "stream",
     "text": [
      "[[[ 45  46  47  48  49  50  51  52  53]\n",
      "  [ 54  55  56  57  58  59  60  61  62]\n",
      "  [ 63  64  65  66  67  68  69  70  71]\n",
      "  [ 72  73  74  75  76  77  78  79  80]\n",
      "  [ 81  82  83  84  85  86  87  88  89]]\n",
      "\n",
      " [[ 90  91  92  93  94  95  96  97  98]\n",
      "  [ 99 100 101 102 103 104 105 106 107]\n",
      "  [108 109 110 111 112 113 114 115 116]\n",
      "  [117 118 119 120 121 122 123 124 125]\n",
      "  [126 127 128 129 130 131 132 133 134]]]\n"
     ]
    },
    {
     "data": {
      "text/plain": [
       "array([[[  0,   1,   2,   3,   4,   5,   6,   7,   8],\n",
       "        [  9,  10,  11,  12,  13,  14,  15,  16,  17],\n",
       "        [ 18,  19,  20,  21,  22,  23,  24,  25,  26],\n",
       "        [ 27,  28,  29,  30,  31,  32,  33,  34,  35],\n",
       "        [ 36,  37,  38,  39,  40,  41,  42,  43,  44]],\n",
       "\n",
       "       [[ 45,  46,  47,  48,  49,  50,  51,  52,  53],\n",
       "        [ 54,  55,  56,  57,  58,  59,  60,  61,  62],\n",
       "        [ 63,  64,  65,  66,  67,  68,  69,  70,  71],\n",
       "        [ 72,  73,  74,  75,  76,  77,  78,  79,  80],\n",
       "        [ 81,  82,  83,  84,  85,  86,  87,  88,  89]],\n",
       "\n",
       "       [[ 90,  91,  92,  93,  94,  95,  96,  97,  98],\n",
       "        [ 99, 100, 101, 102, 103, 104, 105, 106, 107],\n",
       "        [108, 109, 110, 111, 112, 113, 114, 115, 116],\n",
       "        [117, 118, 119, 120, 121, 122, 123, 124, 125],\n",
       "        [126, 127, 128, 129, 130, 131, 132, 133, 134]],\n",
       "\n",
       "       [[135, 136, 137, 138, 139, 140, 141, 142, 143],\n",
       "        [144, 145, 146, 147, 148, 149, 150, 151, 152],\n",
       "        [153, 154, 155, 156, 157, 158, 159, 160, 161],\n",
       "        [162, 163, 164, 165, 166, 167, 168, 169, 170],\n",
       "        [171, 172, 173, 174, 175, 176, 177, 178, 179]],\n",
       "\n",
       "       [[180, 181, 182, 183, 184, 185, 186, 187, 188],\n",
       "        [189, 190, 191, 192, 193, 194, 195, 196, 197],\n",
       "        [198, 199, 200, 201, 202, 203, 204, 205, 206],\n",
       "        [207, 208, 209, 210, 211, 212, 213, 214, 215],\n",
       "        [216, 217, 218, 219, 220, 221, 222, 223, 224]]])"
      ]
     },
     "execution_count": 105,
     "metadata": {},
     "output_type": "execute_result"
    }
   ],
   "source": [
    "#slicing in 3D array syntax\n",
    "\n",
    "#[table_start : table_end : table_skip , row_start : row_end , row_skip , column_start : column_end : column_skip]\n",
    "\n",
    "arr10 = np.arange(225).reshape(5, 5, 9)\n",
    "print(arr10[1:3])\n",
    "print(arr10[1:3])\n",
    "print(arr10[1:3])\n",
    "arr10"
   ]
  },
  {
   "cell_type": "code",
   "execution_count": null,
   "id": "44297a32",
   "metadata": {},
   "outputs": [
    {
     "data": {
      "text/plain": [
       "224"
      ]
     },
     "execution_count": 106,
     "metadata": {},
     "output_type": "execute_result"
    }
   ],
   "source": [
    "np.min(arr10)\n",
    "np.max(arr10)\n",
    "np.sum(arr10)\n",
    "np.mean(arr10)\n",
    "np.median(arr10)\n",
    "np.std(arr10)"
   ]
  },
  {
   "cell_type": "code",
   "execution_count": null,
   "id": "8b351d98",
   "metadata": {},
   "outputs": [
    {
     "name": "stdout",
     "output_type": "stream",
     "text": [
      "None\n"
     ]
    }
   ],
   "source": [
    "arr10.sort()           #in asscending order"
   ]
  },
  {
   "cell_type": "code",
   "execution_count": 109,
   "id": "6e6e2248",
   "metadata": {},
   "outputs": [
    {
     "data": {
      "text/plain": [
       "array([2, 0, 1, 3], dtype=int64)"
      ]
     },
     "execution_count": 109,
     "metadata": {},
     "output_type": "execute_result"
    }
   ],
   "source": [
    "arr11 = np.array([2, 5, 1, 9])\n",
    "arr11.argsort()"
   ]
  },
  {
   "cell_type": "code",
   "execution_count": null,
   "id": "180daf3b",
   "metadata": {},
   "outputs": [
    {
     "ename": "TypeError",
     "evalue": "'int' object is not callable",
     "output_type": "error",
     "traceback": [
      "\u001b[1;31m---------------------------------------------------------------------------\u001b[0m",
      "\u001b[1;31mTypeError\u001b[0m                                 Traceback (most recent call last)",
      "Cell \u001b[1;32mIn[124], line 4\u001b[0m\n\u001b[0;32m      1\u001b[0m list1 \u001b[38;5;241m=\u001b[39m [\u001b[38;5;241m1\u001b[39m, \u001b[38;5;241m2\u001b[39m, \u001b[38;5;241m3\u001b[39m, \u001b[38;5;241m4\u001b[39m, \u001b[38;5;241m5\u001b[39m]\n\u001b[0;32m      2\u001b[0m \u001b[38;5;66;03m# list1 = [1, 2, \"3\", 4, 5]       #output --> ['1' '2' '3' '4' '5']  \u001b[39;00m\n\u001b[1;32m----> 4\u001b[0m arr1 \u001b[38;5;241m=\u001b[39m np\u001b[38;5;241m.\u001b[39marray(list1)\u001b[38;5;241m.\u001b[39mndim(\u001b[38;5;241m4\u001b[39m)\n",
      "\u001b[1;31mTypeError\u001b[0m: 'int' object is not callable"
     ]
    }
   ],
   "source": [
    "list1 = [1, 2, 3, 4, 5] \n",
    "\n",
    "arr1 = np.array(list1).ndmin(4)"
   ]
  }
 ],
 "metadata": {
  "kernelspec": {
   "display_name": "base",
   "language": "python",
   "name": "python3"
  },
  "language_info": {
   "codemirror_mode": {
    "name": "ipython",
    "version": 3
   },
   "file_extension": ".py",
   "mimetype": "text/x-python",
   "name": "python",
   "nbconvert_exporter": "python",
   "pygments_lexer": "ipython3",
   "version": "3.12.7"
  }
 },
 "nbformat": 4,
 "nbformat_minor": 5
}
