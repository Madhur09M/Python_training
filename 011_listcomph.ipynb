{
 "cells": [
  {
   "cell_type": "markdown",
   "id": "f9cf44fa",
   "metadata": {},
   "source": [
    "# List Comprehension #"
   ]
  },
  {
   "cell_type": "code",
   "execution_count": null,
   "id": "d8fed87b",
   "metadata": {},
   "outputs": [],
   "source": [
    "print(\"hello\")"
   ]
  },
  {
   "cell_type": "code",
   "execution_count": null,
   "id": "ac052b37",
   "metadata": {},
   "outputs": [],
   "source": [
    "#list comprehension is used to creat a list with less syntax\n",
    "#[expression/output] for loop [condition]"
   ]
  },
  {
   "cell_type": "code",
   "execution_count": 14,
   "id": "4a348b92",
   "metadata": {},
   "outputs": [
    {
     "name": "stdout",
     "output_type": "stream",
     "text": [
      "['RED', 'GREEN', 'BLUE', 'YELLOW']\n"
     ]
    }
   ],
   "source": [
    "list1 = [\"red\", \"green\", \"blue\", \"yellow\"]\n",
    "newlist1 = [i.upper() for i in list1]\n",
    "print(newlist1)"
   ]
  },
  {
   "cell_type": "code",
   "execution_count": 2,
   "id": "87917117",
   "metadata": {},
   "outputs": [
    {
     "name": "stdout",
     "output_type": "stream",
     "text": [
      "[1, 4, 9, 16, 25]\n"
     ]
    }
   ],
   "source": [
    "list2 = [1, 2, 3, 4, 5]\n",
    "newlist2 = [i*i for i in list2]\n",
    "print(newlist2)"
   ]
  },
  {
   "cell_type": "code",
   "execution_count": null,
   "id": "c0d35cdf",
   "metadata": {},
   "outputs": [
    {
     "name": "stdout",
     "output_type": "stream",
     "text": [
      "[2, 4, 6, 8, 10]\n"
     ]
    }
   ],
   "source": [
    "list3 = [1, 2, 3, 4, 5, 6, 7, 8, 9, 10]\n",
    "newlist3 = [i for i in list3 if i%2 == 0]\n",
    "print(newlist3)"
   ]
  },
  {
   "cell_type": "code",
   "execution_count": 17,
   "id": "da4a0bae",
   "metadata": {},
   "outputs": [
    {
     "name": "stdout",
     "output_type": "stream",
     "text": [
      "['R', 'G', 'B', 'Y']\n"
     ]
    }
   ],
   "source": [
    "list4 = [\"red\", \"green\", \"blue\", \"yellow\"]\n",
    "newlist4 = [i[0].upper() for i in list1]\n",
    "print(newlist4)"
   ]
  },
  {
   "cell_type": "code",
   "execution_count": 24,
   "id": "117146fb",
   "metadata": {},
   "outputs": [
    {
     "ename": "SyntaxError",
     "evalue": "invalid syntax (3671240966.py, line 4)",
     "output_type": "error",
     "traceback": [
      "\u001b[1;36m  Cell \u001b[1;32mIn[24], line 4\u001b[1;36m\u001b[0m\n\u001b[1;33m    newlist5 = [i for i in list5 for j in ]\u001b[0m\n\u001b[1;37m                                          ^\u001b[0m\n\u001b[1;31mSyntaxError\u001b[0m\u001b[1;31m:\u001b[0m invalid syntax\n"
     ]
    }
   ],
   "source": [
    "list5 = [[1, 2, 3], [4, 5, 6], [7, 8, 9]]\n",
    "#output = [1, 2, 3, 4, 5, 6, 7, 8, 9]\n",
    "\n",
    "newlist5 = [i for i in list5 for j in ]\n",
    "print(newlist5)"
   ]
  }
 ],
 "metadata": {
  "kernelspec": {
   "display_name": "base",
   "language": "python",
   "name": "python3"
  },
  "language_info": {
   "codemirror_mode": {
    "name": "ipython",
    "version": 3
   },
   "file_extension": ".py",
   "mimetype": "text/x-python",
   "name": "python",
   "nbconvert_exporter": "python",
   "pygments_lexer": "ipython3",
   "version": "3.12.7"
  }
 },
 "nbformat": 4,
 "nbformat_minor": 5
}
