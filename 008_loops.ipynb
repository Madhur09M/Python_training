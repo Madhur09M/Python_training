{
 "cells": [
  {
   "cell_type": "markdown",
   "id": "7f956c0e",
   "metadata": {},
   "source": [
    "# Loops #"
   ]
  },
  {
   "cell_type": "code",
   "execution_count": null,
   "id": "b201a290",
   "metadata": {},
   "outputs": [],
   "source": [
    "print(\"hello\")"
   ]
  },
  {
   "cell_type": "markdown",
   "id": "6c1905f0",
   "metadata": {},
   "source": [
    "## For loop ##"
   ]
  },
  {
   "cell_type": "code",
   "execution_count": 2,
   "id": "a45a3709",
   "metadata": {},
   "outputs": [
    {
     "name": "stdout",
     "output_type": "stream",
     "text": [
      "h\n",
      "e\n",
      "l\n",
      "l\n",
      "o\n"
     ]
    }
   ],
   "source": [
    "#string\n",
    "\n",
    "for i in \"hello\" :                    # 'i' is temporary variable\n",
    "    print(i)"
   ]
  },
  {
   "cell_type": "code",
   "execution_count": 12,
   "id": "2374dda0",
   "metadata": {},
   "outputs": [
    {
     "name": "stdout",
     "output_type": "stream",
     "text": [
      "apple banana kivi mango "
     ]
    }
   ],
   "source": [
    "#list\n",
    "list1 = [\"apple\", \"banana\", \"kivi\", \"mango\"]\n",
    "for i in list1 :\n",
    "    print(i,end = \" \")"
   ]
  },
  {
   "cell_type": "code",
   "execution_count": 19,
   "id": "fe44274d",
   "metadata": {},
   "outputs": [
    {
     "name": "stdout",
     "output_type": "stream",
     "text": [
      "name -----> madhur\n",
      "year -----> 3rd\n",
      "age -----> 21\n"
     ]
    }
   ],
   "source": [
    "#dictionary\n",
    "# dict1 = {\n",
    "#     \"name\" : \"madhur\",\n",
    "#     \"year\" : \"3rd\",\n",
    "#     \"age\" : 21\n",
    "# }\n",
    "\n",
    "# for i in dict1.items() :\n",
    "#     print(i)\n",
    "\n",
    "\n",
    "dict1 = {\n",
    "    \"name\" : \"madhur\",\n",
    "    \"year\" : \"3rd\",\n",
    "    \"age\" : 21\n",
    "}\n",
    "\n",
    "for i,j in dict1.items() :\n",
    "    print(i,\"----->\",j)"
   ]
  },
  {
   "cell_type": "code",
   "execution_count": 20,
   "id": "7235fad0",
   "metadata": {},
   "outputs": [
    {
     "name": "stdout",
     "output_type": "stream",
     "text": [
      "2\n",
      "4\n",
      "6\n",
      "8\n",
      "10\n"
     ]
    }
   ],
   "source": [
    "#range function\n",
    "\n",
    "for i in range(2,11,2):\n",
    "    print(i)"
   ]
  },
  {
   "cell_type": "code",
   "execution_count": 22,
   "id": "3d1d993f",
   "metadata": {},
   "outputs": [
    {
     "name": "stdout",
     "output_type": "stream",
     "text": [
      "1 red\n",
      "--------\n",
      "1 green\n",
      "--------\n",
      "1 blue\n",
      "--------\n",
      "2 red\n",
      "--------\n",
      "2 green\n",
      "--------\n",
      "2 blue\n",
      "--------\n",
      "3 red\n",
      "--------\n",
      "3 green\n",
      "--------\n",
      "3 blue\n",
      "--------\n"
     ]
    }
   ],
   "source": [
    "#nested loop\n",
    "\n",
    "list2 = [1, 2, 3]\n",
    "list3 = [\"red\", \"green\", \"blue\"]\n",
    "\n",
    "for i in list2 :\n",
    "    for j in list3 :\n",
    "        print(i,j)\n",
    "        print(\"--------\")"
   ]
  },
  {
   "cell_type": "markdown",
   "id": "8632a0c3",
   "metadata": {},
   "source": [
    "### Break and Continue ###"
   ]
  },
  {
   "cell_type": "code",
   "execution_count": 24,
   "id": "1e3845a4",
   "metadata": {},
   "outputs": [
    {
     "name": "stdout",
     "output_type": "stream",
     "text": [
      "1\n",
      "2\n",
      "3\n",
      "4\n",
      "6\n",
      "7\n",
      "8\n",
      "9\n",
      "10\n"
     ]
    }
   ],
   "source": [
    "# for i in range(1,11):\n",
    "#     if i == 5:\n",
    "#         break\n",
    "#     print(i)\n",
    "\n",
    "for i in range(1,11):\n",
    "    if i == 5:\n",
    "        continue\n",
    "    print(i)"
   ]
  },
  {
   "cell_type": "markdown",
   "id": "687998b1",
   "metadata": {},
   "source": [
    "### Pass ###"
   ]
  },
  {
   "cell_type": "code",
   "execution_count": 25,
   "id": "d05854fc",
   "metadata": {},
   "outputs": [],
   "source": [
    "if i in range(2,10,3):\n",
    "    pass"
   ]
  },
  {
   "cell_type": "code",
   "execution_count": null,
   "id": "ddb28202",
   "metadata": {},
   "outputs": [
    {
     "name": "stdout",
     "output_type": "stream",
     "text": [
      "[1, 9]\n"
     ]
    }
   ],
   "source": [
    "list4 = [1, 2, 3, 4]\n",
    "list5 =[]\n",
    "for i in list4 :\n",
    "    \n",
    "    list5.append(i*i)\n",
    "    \n",
    "\n",
    "print(list5)"
   ]
  },
  {
   "cell_type": "markdown",
   "id": "c97992fe",
   "metadata": {},
   "source": [
    "## While loop ##"
   ]
  },
  {
   "cell_type": "code",
   "execution_count": 34,
   "id": "c9266617",
   "metadata": {},
   "outputs": [
    {
     "name": "stdout",
     "output_type": "stream",
     "text": [
      "1\n",
      "2\n",
      "3\n",
      "4\n",
      "5\n",
      "6\n",
      "7\n",
      "8\n",
      "9\n",
      "10\n"
     ]
    }
   ],
   "source": [
    "i = 1\n",
    "while i <= 10:\n",
    "    print(i)\n",
    "    i += 1"
   ]
  },
  {
   "cell_type": "code",
   "execution_count": 35,
   "id": "2d2a5aab",
   "metadata": {},
   "outputs": [
    {
     "name": "stdout",
     "output_type": "stream",
     "text": [
      "10\n",
      "9\n",
      "8\n",
      "7\n",
      "6\n",
      "5\n",
      "4\n",
      "3\n",
      "2\n",
      "1\n"
     ]
    }
   ],
   "source": [
    "i = 10\n",
    "while i>=1:\n",
    "    print(i)\n",
    "    i-=1"
   ]
  },
  {
   "cell_type": "markdown",
   "id": "423ab1b0",
   "metadata": {},
   "source": [
    "### Break and Continue ###"
   ]
  },
  {
   "cell_type": "code",
   "execution_count": 38,
   "id": "1c4831f3",
   "metadata": {},
   "outputs": [
    {
     "name": "stdout",
     "output_type": "stream",
     "text": [
      "1\n",
      "2\n",
      "3\n",
      "4\n",
      "5\n"
     ]
    }
   ],
   "source": [
    "i = 1\n",
    "while i <= 10:\n",
    "    if i == 6:\n",
    "        break\n",
    "    print(i)\n",
    "    i += 1\n",
    "\n"
   ]
  },
  {
   "cell_type": "code",
   "execution_count": 40,
   "id": "7affc073",
   "metadata": {},
   "outputs": [
    {
     "name": "stdout",
     "output_type": "stream",
     "text": [
      "55\n"
     ]
    }
   ],
   "source": [
    "i = 1\n",
    "sum = 0\n",
    "while i <= 10:\n",
    "    sum = sum + i\n",
    "    i += 1\n",
    "print(sum)"
   ]
  }
 ],
 "metadata": {
  "kernelspec": {
   "display_name": "base",
   "language": "python",
   "name": "python3"
  },
  "language_info": {
   "codemirror_mode": {
    "name": "ipython",
    "version": 3
   },
   "file_extension": ".py",
   "mimetype": "text/x-python",
   "name": "python",
   "nbconvert_exporter": "python",
   "pygments_lexer": "ipython3",
   "version": "3.12.7"
  }
 },
 "nbformat": 4,
 "nbformat_minor": 5
}
