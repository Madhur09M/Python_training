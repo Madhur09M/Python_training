{
 "cells": [
  {
   "cell_type": "markdown",
   "id": "e41bb41b",
   "metadata": {},
   "source": [
    "# Functions #"
   ]
  },
  {
   "cell_type": "code",
   "execution_count": 1,
   "id": "066dd3a4",
   "metadata": {},
   "outputs": [
    {
     "name": "stdout",
     "output_type": "stream",
     "text": [
      "hello\n"
     ]
    }
   ],
   "source": [
    "print(\"hello\")"
   ]
  },
  {
   "cell_type": "code",
   "execution_count": 2,
   "id": "8475d5a4",
   "metadata": {},
   "outputs": [
    {
     "name": "stdout",
     "output_type": "stream",
     "text": [
      "Calling 911...\n"
     ]
    }
   ],
   "source": [
    "def help():\n",
    "    print(\"Calling 911...\")\n",
    "\n",
    "help()"
   ]
  },
  {
   "cell_type": "code",
   "execution_count": null,
   "id": "fe1ffa4e",
   "metadata": {},
   "outputs": [
    {
     "name": "stdout",
     "output_type": "stream",
     "text": [
      "Sum =  7\n"
     ]
    }
   ],
   "source": [
    "def add(a=1,b=1):                   #parameters while creating the function\n",
    "    print(\"Sum = \",a+b)\n",
    "\n",
    "add(3,4)                            #arguments while calling the function"
   ]
  },
  {
   "cell_type": "code",
   "execution_count": 7,
   "id": "866ca61b",
   "metadata": {},
   "outputs": [
    {
     "name": "stdout",
     "output_type": "stream",
     "text": [
      "the oldest child is : krishna\n",
      "the youngest child is : saloni\n"
     ]
    }
   ],
   "source": [
    "#arbitary arguments\n",
    "def child(*kids):\n",
    "    print(\"the oldest child is :\",kids[0])\n",
    "\n",
    "    print(\"the youngest child is :\",kids[len(kids)-1])\n",
    "\n",
    "child(\"krishna\", \"nakul\", \"prapti\", \"saloni\")"
   ]
  },
  {
   "cell_type": "code",
   "execution_count": 8,
   "id": "69772194",
   "metadata": {},
   "outputs": [
    {
     "name": "stdout",
     "output_type": "stream",
     "text": [
      "the youngest child is : karan\n"
     ]
    }
   ],
   "source": [
    "#keyword argument\n",
    "def child(child1, child2, child3):\n",
    "    print(\"the youngest child is :\",child3)\n",
    "\n",
    "child(child3=\"karan\", child2=\"sachin\", child1=\"mohit\")"
   ]
  },
  {
   "cell_type": "code",
   "execution_count": 14,
   "id": "87df2ccb",
   "metadata": {},
   "outputs": [
    {
     "name": "stdout",
     "output_type": "stream",
     "text": [
      "the oldest child is : krishna\n"
     ]
    }
   ],
   "source": [
    "#arbitary keyword argument\n",
    "def child(**kids):\n",
    "    print(\"the oldest child is :\",kids[\"child1\"])\n",
    "\n",
    "child(child1=\"krishna\", child3=\"nakul\", child2=\"prapti\", child4=\"saloni\")"
   ]
  },
  {
   "cell_type": "code",
   "execution_count": 17,
   "id": "e4ce436f",
   "metadata": {},
   "outputs": [
    {
     "name": "stdout",
     "output_type": "stream",
     "text": [
      "your hobby is  cricket\n",
      "your hobby is  football\n"
     ]
    }
   ],
   "source": [
    "#default function\n",
    "def hobby(name=\"cricket\"):\n",
    "    print(\"your hobby is \",name)\n",
    "\n",
    "hobby()\n",
    "hobby(\"football\")"
   ]
  },
  {
   "cell_type": "code",
   "execution_count": 18,
   "id": "53459355",
   "metadata": {},
   "outputs": [
    {
     "name": "stdout",
     "output_type": "stream",
     "text": [
      "avg : 8.5\n"
     ]
    }
   ],
   "source": [
    "def avg(a=0,b=0):\n",
    "    print(\"avg :\",(a+b)/2)\n",
    "\n",
    "avg(9,8)"
   ]
  },
  {
   "cell_type": "code",
   "execution_count": 19,
   "id": "f756fdce",
   "metadata": {},
   "outputs": [
    {
     "name": "stdout",
     "output_type": "stream",
     "text": [
      "avg : 5.25\n"
     ]
    }
   ],
   "source": [
    "def avg(*num):\n",
    "    print(\"avg :\",sum(num)/len(num))\n",
    "\n",
    "avg(2,5,6,8)"
   ]
  }
 ],
 "metadata": {
  "kernelspec": {
   "display_name": "base",
   "language": "python",
   "name": "python3"
  },
  "language_info": {
   "codemirror_mode": {
    "name": "ipython",
    "version": 3
   },
   "file_extension": ".py",
   "mimetype": "text/x-python",
   "name": "python",
   "nbconvert_exporter": "python",
   "pygments_lexer": "ipython3",
   "version": "3.12.7"
  }
 },
 "nbformat": 4,
 "nbformat_minor": 5
}
