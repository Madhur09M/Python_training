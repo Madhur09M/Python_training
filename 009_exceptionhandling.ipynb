{
 "cells": [
  {
   "cell_type": "markdown",
   "id": "88dfe901",
   "metadata": {},
   "source": [
    "# Exception Handling #"
   ]
  },
  {
   "cell_type": "code",
   "execution_count": null,
   "id": "58bcf911",
   "metadata": {},
   "outputs": [],
   "source": [
    "# error handling\n",
    "\n",
    "#4 types of blocks --> try, except, else, finally\n",
    "#try - is used to test the block of codes for error\n",
    "#except - is used to handle the error\n",
    "#else - is used to define a block of code to be executed if there is no error\n",
    "#finally - is used to define a block of code to be executed"
   ]
  },
  {
   "cell_type": "code",
   "execution_count": 2,
   "id": "7b217295",
   "metadata": {},
   "outputs": [
    {
     "name": "stdout",
     "output_type": "stream",
     "text": [
      "division by zero\n",
      "finally block\n"
     ]
    }
   ],
   "source": [
    "#zero division error\n",
    "try:\n",
    "    print(10/0)\n",
    "# except:           \n",
    "#     print(\"Zero Division Error\")\n",
    "except Exception as e:\n",
    "    print(e)\n",
    "else:\n",
    "    print(\"else block\")\n",
    "finally:\n",
    "    print(\"finally block\")"
   ]
  },
  {
   "cell_type": "code",
   "execution_count": null,
   "id": "ade81bcd",
   "metadata": {},
   "outputs": [
    {
     "name": "stdout",
     "output_type": "stream",
     "text": [
      "m\n",
      "can only concatenate str (not \"int\") to str\n"
     ]
    }
   ],
   "source": [
    "str1 = \"madhur\"\n",
    "try:\n",
    "    for i in str1:\n",
    "        print(i)\n",
    "        i += 1\n",
    "except Exception as e:\n",
    "    print(e)\n"
   ]
  }
 ],
 "metadata": {
  "kernelspec": {
   "display_name": "base",
   "language": "python",
   "name": "python3"
  },
  "language_info": {
   "codemirror_mode": {
    "name": "ipython",
    "version": 3
   },
   "file_extension": ".py",
   "mimetype": "text/x-python",
   "name": "python",
   "nbconvert_exporter": "python",
   "pygments_lexer": "ipython3",
   "version": "3.12.7"
  }
 },
 "nbformat": 4,
 "nbformat_minor": 5
}
