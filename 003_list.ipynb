{
 "cells": [
  {
   "cell_type": "markdown",
   "id": "6b3f2615",
   "metadata": {},
   "source": [
    "# List #"
   ]
  },
  {
   "cell_type": "code",
   "execution_count": 37,
   "id": "c19cc8ba",
   "metadata": {},
   "outputs": [
    {
     "name": "stdout",
     "output_type": "stream",
     "text": [
      "[1, 2, 'ureka', 36, 25, 'madhosh']\n",
      "<class 'list'>\n"
     ]
    }
   ],
   "source": [
    "list1 = [1, 2, \"ureka\", 36, 25, \"madhosh\"]\n",
    "print(list1)\n",
    "print(type(list1))"
   ]
  },
  {
   "cell_type": "code",
   "execution_count": 38,
   "id": "f574c1ac",
   "metadata": {},
   "outputs": [
    {
     "name": "stdout",
     "output_type": "stream",
     "text": [
      "[36, 25, 'madhosh']\n",
      "ureka\n"
     ]
    }
   ],
   "source": [
    "list2 = [\"dehshat\", \"uncle\", \"ureka\", \"devana\", \"awara\", \"madhosh\"]\n",
    "print(list1[-3:])           #list slicing\n",
    "print(list1[2])             #list indexing"
   ]
  },
  {
   "cell_type": "code",
   "execution_count": 39,
   "id": "a4fae874",
   "metadata": {},
   "outputs": [
    {
     "name": "stdout",
     "output_type": "stream",
     "text": [
      "Original :  ['karan', 'mahiman', 'manutosh', 'mohit', 'sachin', 'prabhutva', 'madhur']\n",
      "['karan', 'mahiman', 123, 256, 'sachin', 'prabhutva', 'madhur']\n",
      "['karan', 'mahiman', 123, 256, 'sachin', 'prabhutva', 'anshu']\n"
     ]
    }
   ],
   "source": [
    "list3 = [\"karan\", \"mahiman\", \"manutosh\", \"mohit\", \"sachin\", \"prabhutva\", \"madhur\"]\n",
    "print(\"Original : \",list3)\n",
    "list3[2:4] = 123,256\n",
    "print(list3)\n",
    "list3[-1] = \"anshu\"\n",
    "print(list3)"
   ]
  },
  {
   "cell_type": "code",
   "execution_count": 40,
   "id": "92b1c1bd",
   "metadata": {},
   "outputs": [
    {
     "name": "stdout",
     "output_type": "stream",
     "text": [
      "['ganesh', 'Madhur', 'Ranveer', 'Vanshaj', 'Anand']\n"
     ]
    }
   ],
   "source": [
    "list4 = [\"Sahil\", \"Ranveer\", \"Vanshaj\", \"Anand\"]\n",
    "# list4.insert(3,5)\n",
    "# print(list4)\n",
    "list4 [0:1] = [\"ganesh\", \"Madhur\"]           #Slicing\n",
    "print(list4)\n"
   ]
  },
  {
   "cell_type": "code",
   "execution_count": 41,
   "id": "3c2f4fb7",
   "metadata": {},
   "outputs": [
    {
     "name": "stdout",
     "output_type": "stream",
     "text": [
      "[10, 20, [30, 40, [50, 60000], 70], 80]\n"
     ]
    }
   ],
   "source": [
    "list5 = [10, 20, [30, 40, [50, 60], 70], 80]          #change 60 ---> 60000\n",
    "\n",
    "#difficult and have high time complixity\n",
    "\n",
    "# list6 = list5[2]\n",
    "# list7 = list6[2]\n",
    "# list7[1] = 60000\n",
    "\n",
    "# print(list5)\n",
    "\n",
    "list5[2][2][1] = 60000\n",
    "print(list5)"
   ]
  },
  {
   "cell_type": "markdown",
   "id": "10ffa5b5",
   "metadata": {},
   "source": [
    "## Methods ##"
   ]
  },
  {
   "cell_type": "code",
   "execution_count": null,
   "id": "1f1fef78",
   "metadata": {},
   "outputs": [
    {
     "name": "stdout",
     "output_type": "stream",
     "text": [
      "['red', 'blue', 'white', 'green', 'red', 'yellow', 'red', 'blue']\n",
      "['red', 'blue', 'white', 'green', 'red', 'yellow', 'red', 'blue', 'black']\n",
      "['red', 'blue', 'white', 'green', 'red', 'yellow', 'red', 'blue', 'black', 'white', 'black']\n",
      "['red', 'blue', 'white', 'green', 'red', 'yellow', 'red', 'blue', 'white', 'black']\n"
     ]
    }
   ],
   "source": [
    "lst = [\"red\", \"blue\", \"green\", \"red\", \"yellow\", \"red\", \"blue\"]\n",
    "\n",
    "# print(lst.count(\"red\"))\n",
    "# print(lst.index(\"red\"))\n",
    "# lst1 = lst.copy()\n",
    "# print(lst1)\n",
    "\n",
    "# lst.clear()\n",
    "# print(lst)\n",
    "\n",
    "# del lst\n",
    "# print(lst)\n",
    "\n",
    "lst.insert(2,\"white\")            #(idx,element)\n",
    "print(lst)\n",
    "\n",
    "lst.append(\"black\")              #(element) is added in the list at the end\n",
    "print(lst)\n",
    "\n",
    "lst.extend([\"white\",\"black\"])    #add the elements at the end of the list\n",
    "print(lst)\n",
    "\n",
    "lst.remove(\"black\")             #removes element at its first occurance\n",
    "print(lst)\n",
    "\n",
    "lst.pop(3)\n",
    "print(lst)\n",
    "\n",
    "lst.reverse()\n",
    "print(lst)\n",
    "\n",
    "lst.sort()\n",
    "print(lst)\n",
    "lst.sort(reverse = True)\n",
    "print(lst)"
   ]
  },
  {
   "cell_type": "code",
   "execution_count": 63,
   "id": "836521df",
   "metadata": {},
   "outputs": [
    {
     "name": "stdout",
     "output_type": "stream",
     "text": [
      "[4, 3, 2, 1]\n"
     ]
    }
   ],
   "source": [
    "lst6 = [1, 2, 3, 4]\n",
    "\n",
    "lst7[:] = lst6[::-1]\n",
    "print(lst7)"
   ]
  }
 ],
 "metadata": {
  "kernelspec": {
   "display_name": "base",
   "language": "python",
   "name": "python3"
  },
  "language_info": {
   "codemirror_mode": {
    "name": "ipython",
    "version": 3
   },
   "file_extension": ".py",
   "mimetype": "text/x-python",
   "name": "python",
   "nbconvert_exporter": "python",
   "pygments_lexer": "ipython3",
   "version": "3.12.7"
  }
 },
 "nbformat": 4,
 "nbformat_minor": 5
}
