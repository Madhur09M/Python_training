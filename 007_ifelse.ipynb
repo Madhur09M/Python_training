{
 "cells": [
  {
   "cell_type": "markdown",
   "id": "ade3644f",
   "metadata": {},
   "source": [
    "# Conditional Statements #"
   ]
  },
  {
   "cell_type": "code",
   "execution_count": 2,
   "id": "0e6e4f88",
   "metadata": {},
   "outputs": [
    {
     "name": "stdout",
     "output_type": "stream",
     "text": [
      "hello\n"
     ]
    }
   ],
   "source": [
    "print(\"hello\")"
   ]
  },
  {
   "cell_type": "code",
   "execution_count": 1,
   "id": "3c2e10c6",
   "metadata": {},
   "outputs": [
    {
     "name": "stdout",
     "output_type": "stream",
     "text": [
      "b is greater than a\n"
     ]
    }
   ],
   "source": [
    "a = 10\n",
    "b = 20\n",
    "\n",
    "if a<b :\n",
    "    print(\"b is greater than a\")\n",
    "else :\n",
    "    print(\"b is smaller than a\")"
   ]
  },
  {
   "cell_type": "code",
   "execution_count": null,
   "id": "2b7929d5",
   "metadata": {},
   "outputs": [],
   "source": [
    "#check whether the num is positive, negative or zero\n",
    "\n",
    "num = int(input(\"Enter the number : \"))\n",
    "\n",
    "if num == 0 :\n",
    "    print(\"the entered number is zero\")\n",
    "elif num > 0:\n",
    "    print(\"the entered number is positive\")\n",
    "else :\n",
    "    print(\"the entered number is negative\")"
   ]
  },
  {
   "cell_type": "code",
   "execution_count": null,
   "id": "255c6353",
   "metadata": {},
   "outputs": [],
   "source": [
    "a = int(input(\"Enter the number : \"))\n",
    "\n",
    "if a%7.5 == 0 :\n",
    "    print(\"the number is a multiple of 7.5\")\n",
    "\n",
    "print(\"the entered number is not the multiple of 7.5\")"
   ]
  }
 ],
 "metadata": {
  "kernelspec": {
   "display_name": "base",
   "language": "python",
   "name": "python3"
  },
  "language_info": {
   "codemirror_mode": {
    "name": "ipython",
    "version": 3
   },
   "file_extension": ".py",
   "mimetype": "text/x-python",
   "name": "python",
   "nbconvert_exporter": "python",
   "pygments_lexer": "ipython3",
   "version": "3.12.7"
  }
 },
 "nbformat": 4,
 "nbformat_minor": 5
}
