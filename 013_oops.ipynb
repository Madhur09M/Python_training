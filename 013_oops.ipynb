{
 "cells": [
  {
   "cell_type": "markdown",
   "id": "f5469789",
   "metadata": {},
   "source": [
    "# Class and Object #"
   ]
  },
  {
   "cell_type": "code",
   "execution_count": null,
   "id": "d3ec990d",
   "metadata": {},
   "outputs": [],
   "source": [
    "print(\"hello\")\n",
    "\n",
    "#class --> blueprint of the object\n",
    "#object --> instance of a class"
   ]
  },
  {
   "cell_type": "code",
   "execution_count": 21,
   "id": "45176759",
   "metadata": {},
   "outputs": [
    {
     "name": "stdout",
     "output_type": "stream",
     "text": [
      "Car started...\n",
      "Car stopped...\n"
     ]
    }
   ],
   "source": [
    "class car:\n",
    "        start = print(\"Car started...\")\n",
    "        stop = print(\"Car stopped...\")\n",
    "\n",
    "        def start_car(self):\n",
    "            return self.start\n",
    "\n",
    "        def stop_car(self):\n",
    "            return self.stop\n",
    "\n",
    "bmw = car()\n",
    "\n",
    "# bmw.start()"
   ]
  },
  {
   "cell_type": "code",
   "execution_count": null,
   "id": "484f1569",
   "metadata": {},
   "outputs": [
    {
     "name": "stdout",
     "output_type": "stream",
     "text": [
      "('lion', 'Male')\n",
      "lion\n",
      "Male\n"
     ]
    }
   ],
   "source": [
    "class animal:\n",
    "    def __init__(self, name, gender):\n",
    "        self.name = name\n",
    "        self.gender = gender\n",
    "\n",
    "    def display_animal(self):\n",
    "        return self.name, self.gender\n",
    "    \n",
    "    def display_name(self):\n",
    "        return self.name\n",
    "\n",
    "    def display_gender(self):\n",
    "        return self.gender\n",
    "\n",
    "x = animal(\"lion\", \"Male\")\n",
    "\n",
    "print (x.display_animal())\n",
    "print(x.display_name())\n",
    "print(x.display_gender())"
   ]
  },
  {
   "cell_type": "markdown",
   "id": "655ac118",
   "metadata": {},
   "source": [
    "# Inheritance #"
   ]
  },
  {
   "cell_type": "code",
   "execution_count": null,
   "id": "348f9eb1",
   "metadata": {},
   "outputs": [],
   "source": [
    "#single inheritance\n",
    "class person:\n",
    "    def __init__(self, name = \"unknown\"):\n",
    "        self.name = name\n",
    "\n",
    "    def show(self):\n",
    "        return self.name\n",
    "\n",
    "class employee(person):\n",
    "    def __init__(self, name = \"unknown\", salary = \"unknown\"):\n",
    "        super().__init__(name)\n",
    "        self.salary = salary\n",
    "\n",
    "obj = employee()\n",
    "obj"
   ]
  },
  {
   "cell_type": "code",
   "execution_count": null,
   "id": "fbe57912",
   "metadata": {},
   "outputs": [],
   "source": [
    "#multiple inheritance\n",
    "class person:\n",
    "    def __init__(self, name = \"unknown\"):\n",
    "        self.name = name\n",
    "\n",
    "    def show(self):\n",
    "        return self.name\n",
    "\n",
    "class employee(person):\n",
    "    def __init__(self, name = \"unknown\", salary = \"unknown\"):\n",
    "        super().__init__(name)\n",
    "        self.salary = salary\n",
    "\n",
    "class job:\n",
    "    def __init__(self, company = \"unknown\"):\n",
    "        self.company = company\n",
    "\n",
    "class employee_person_job(employee,job):\n",
    "    def __init__(self, name = \"unknown\", salary = \"unknown\", company = \"unknown\"):\n",
    "        employee.__init__(self, name = \"unknown\", salary = \"unknown\")\n",
    "        job.__init__(self, company = \"unknown\")\n",
    "        \n"
   ]
  },
  {
   "cell_type": "code",
   "execution_count": null,
   "id": "18f40706",
   "metadata": {},
   "outputs": [],
   "source": [
    "#multilevel inheritance\n",
    "class person:\n",
    "    def __init__(self, name = \"unknown\"):\n",
    "        self.name = name\n",
    "\n",
    "    def show(self):\n",
    "        return self.name\n",
    "\n",
    "class employee(person):\n",
    "    def __init__(self, name = \"unknown\", salary = \"unknown\"):\n",
    "        super().__init__(name)\n",
    "        self.salary = salary\n",
    "\n",
    "class job:\n",
    "    def __init__(self, company = \"unknown\"):\n",
    "        self.company = company\n",
    "\n",
    "class employee_person_job(employee,job):\n",
    "    def __init__(self, name = \"unknown\", salary = \"unknown\", company = \"unknown\"):\n",
    "        employee.__init__(self, name = \"unknown\", salary = \"unknown\")\n",
    "        job.__init__(self, company = \"unknown\")\n",
    "\n",
    "class field(employee_person_job):\n",
    "    def __init__(self, name = \"unknown\", salary = \"unknown\", company = \"unknown\", department = \"unknown\"):\n",
    "        employee.__init__(self, name = \"unknown\", salary = \"unknown\")\n",
    "        job.__init__(self, company = \"unknown\")"
   ]
  },
  {
   "cell_type": "markdown",
   "id": "2469ed5d",
   "metadata": {},
   "source": [
    "# Polymorphism #"
   ]
  },
  {
   "cell_type": "code",
   "execution_count": 4,
   "id": "70ac1ac1",
   "metadata": {},
   "outputs": [
    {
     "name": "stdout",
     "output_type": "stream",
     "text": [
      "meow\n"
     ]
    }
   ],
   "source": [
    "#polymorphism ---> many forms ---> the same function or method behave differently based on the input\n",
    "\n",
    "class cat:\n",
    "    def sound(self):\n",
    "        return \"meow\"\n",
    "\n",
    "class dog:\n",
    "    def sound(self):\n",
    "        return \"bark\"\n",
    "\n",
    "def make_sound(animal):\n",
    "    return animal.sound()\n",
    "\n",
    "cat = cat()\n",
    "dog = dog()\n",
    "\n",
    "print(make_sound(cat))"
   ]
  },
  {
   "cell_type": "code",
   "execution_count": 14,
   "id": "efb6df2a",
   "metadata": {},
   "outputs": [
    {
     "name": "stdout",
     "output_type": "stream",
     "text": [
      "36\n",
      "30\n",
      "28.259999999999998\n"
     ]
    }
   ],
   "source": [
    "class square:\n",
    "    def area(self,a=0):\n",
    "        return a*a\n",
    "\n",
    "class rectangle:\n",
    "    def area(self,a=0,b=0):\n",
    "        return a*b\n",
    "\n",
    "class circle:\n",
    "    def area(self,a=0):\n",
    "        return 3.14*a*a\n",
    "\n",
    "square = square()\n",
    "rectangle = rectangle()\n",
    "circle = circle()\n",
    "\n",
    "print(square.area(int(input(\"enter the side of the square: \"))))\n",
    "print(rectangle.area(5,6))\n",
    "print(circle.area(3))"
   ]
  },
  {
   "cell_type": "markdown",
   "id": "cc60adca",
   "metadata": {},
   "source": [
    "# Encapsulation #"
   ]
  },
  {
   "cell_type": "code",
   "execution_count": null,
   "id": "4a1a6a05",
   "metadata": {},
   "outputs": [],
   "source": [
    "# it means hiding the internal details of the class and protecting the data form being \n",
    "# accessing directly by the outside world\n",
    "\n",
    "#we can do it by using the private and protected variables\n",
    "\n",
    "#private ---> __name\n",
    "#cannot be accessed outside the class\n",
    "\n",
    "#protected ---> _name\n",
    "#can be accessed only by the class and its sub class"
   ]
  },
  {
   "cell_type": "code",
   "execution_count": 16,
   "id": "1d86577a",
   "metadata": {},
   "outputs": [
    {
     "name": "stdout",
     "output_type": "stream",
     "text": [
      "81\n"
     ]
    },
    {
     "data": {
      "text/plain": [
       "81"
      ]
     },
     "execution_count": 16,
     "metadata": {},
     "output_type": "execute_result"
    }
   ],
   "source": [
    "class student:\n",
    "    def __init__(self, name, marks):\n",
    "        self.name = name\n",
    "        self.__marks = marks\n",
    "\n",
    "    def get_marks(self):\n",
    "        return self.__marks\n",
    "    \n",
    "    def set_marks(self,marks):\n",
    "        if 0 <= marks <= 100 :\n",
    "            self.__marks = marks\n",
    "        else :\n",
    "            print(\"invalid marks\")\n",
    "\n",
    "s1 = student(\"madhur\", 81)\n",
    "# name mangling\n",
    "print(s1._student__marks)\n",
    "s1.get_marks()"
   ]
  }
 ],
 "metadata": {
  "kernelspec": {
   "display_name": "base",
   "language": "python",
   "name": "python3"
  },
  "language_info": {
   "codemirror_mode": {
    "name": "ipython",
    "version": 3
   },
   "file_extension": ".py",
   "mimetype": "text/x-python",
   "name": "python",
   "nbconvert_exporter": "python",
   "pygments_lexer": "ipython3",
   "version": "3.12.7"
  }
 },
 "nbformat": 4,
 "nbformat_minor": 5
}
